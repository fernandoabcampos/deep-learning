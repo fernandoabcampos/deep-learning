{
 "cells": [
  {
   "cell_type": "markdown",
   "metadata": {},
   "source": [
    "<div style=\"width: 100%; clear: both;\">\n",
    "<div style=\"float: left; width: 50%;\">\n",
    "<img src=\"http://www.uoc.edu/portal/_resources/common/imatges/marca_UOC/UOC_Masterbrand.jpg\", align=\"left\">\n",
    "</div>\n",
    "<div style=\"float: right; width: 50%;\">\n",
    "<p style=\"margin: 0; padding-top: 22px; text-align:right;\">M2.875 · Deep Learning · PEC3</p>\n",
    "<p style=\"margin: 0; text-align:right;\">2018-2 · Máster universitario en Ciencia de datos (Data science)</p>\n",
    "<p style=\"margin: 0; text-align:right; padding-button: 100px;\">Estudios de Informática, Multimedia y Telecomunicación</p>\n",
    "</div>\n",
    "</div>\n",
    "<div style=\"width:100%;\">&nbsp;</div>\n",
    "\n",
    "\n",
    "# PEC 3: Redes neuronales recurrentes\n",
    "\n",
    "En esta práctica trabajaremos con redes neuronales recurrentes en dos tipos de problemas:\n",
    "\n",
    "<ol start=\"1\">\n",
    "  <li>En un problema de regresión con datos generados sintéticamente.</li>\n",
    "  <li>En un problema de clasificación de textos.</li>\n",
    "</ol>\n",
    "\n",
    "**Importante: Cada uno de los ejercicios puede suponer varios minutos de ejecución, por lo que la entrega debe hacerse en formato notebook y en formato html donde se vea el código y los resultados y comentarios de cada ejercicio. Para exportar el notebook a html puede hacerse desde el menú File $\\to$ Download as $\\to$ HTML.**"
   ]
  },
  {
   "cell_type": "markdown",
   "metadata": {},
   "source": [
    "## 0. Carga de librerías\n",
    "\n",
    "El siguiente código carga los paquetes necesarios para los dos ejercicios de la práctica."
   ]
  },
  {
   "cell_type": "code",
   "execution_count": 1,
   "metadata": {},
   "outputs": [
    {
     "name": "stdout",
     "output_type": "stream",
     "text": [
      "3.6.8 (v3.6.8:3c6b436a57, Dec 24 2018, 02:04:31) \n",
      "[GCC 4.2.1 Compatible Apple LLVM 6.0 (clang-600.0.57)]\n"
     ]
    }
   ],
   "source": [
    "import sys\n",
    "print(sys.version)"
   ]
  },
  {
   "cell_type": "code",
   "execution_count": 2,
   "metadata": {},
   "outputs": [
    {
     "name": "stdout",
     "output_type": "stream",
     "text": [
      "Collecting stldecompose\n",
      "  Downloading https://files.pythonhosted.org/packages/7f/0f/cc3cf33ae4ec1ffc83a2951dc37b5cdb49f9166c0e1de1a61e11b6d954fe/stldecompose-0.0.5-py2.py3-none-any.whl\n",
      "Collecting matplotlib (from stldecompose)\n",
      "\u001b[?25l  Downloading https://files.pythonhosted.org/packages/ea/de/8c82ad7acc647357bc76d6a90385cba7df8e57d99e25ca38e5e12178682f/matplotlib-3.1.0-cp37-cp37m-macosx_10_6_intel.macosx_10_9_intel.macosx_10_9_x86_64.macosx_10_10_intel.macosx_10_10_x86_64.whl (14.4MB)\n",
      "\u001b[K     |████████████████████████████████| 14.4MB 17.0MB/s eta 0:00:01\n",
      "\u001b[?25hCollecting scipy (from stldecompose)\n",
      "\u001b[?25l  Downloading https://files.pythonhosted.org/packages/04/66/ec5f1283d6a290a9153881a896837487338c44639c1305cc59e1c7b69cc9/scipy-1.3.0-cp37-cp37m-macosx_10_6_intel.macosx_10_9_intel.macosx_10_9_x86_64.macosx_10_10_intel.macosx_10_10_x86_64.whl (27.7MB)\n",
      "\u001b[K     |████████████████████████████████| 27.7MB 11.5MB/s eta 0:00:01\n",
      "\u001b[?25hCollecting statsmodels (from stldecompose)\n",
      "\u001b[?25l  Downloading https://files.pythonhosted.org/packages/22/34/f32c5812145d80bdb5e92af73e2173d08012379d52a30e87bef5a8b1b6e1/statsmodels-0.9.0-cp37-cp37m-macosx_10_6_intel.macosx_10_9_intel.macosx_10_9_x86_64.macosx_10_10_intel.macosx_10_10_x86_64.whl (9.6MB)\n",
      "\u001b[K     |████████████████████████████████| 9.6MB 14.7MB/s eta 0:00:01\n",
      "\u001b[?25hCollecting numpy (from stldecompose)\n",
      "\u001b[?25l  Downloading https://files.pythonhosted.org/packages/6b/be/608b7f72b851472388eafc010a5d46dae5d41610d0ac5df4c98c2ed1b865/numpy-1.16.4-cp37-cp37m-macosx_10_6_intel.macosx_10_9_intel.macosx_10_9_x86_64.macosx_10_10_intel.macosx_10_10_x86_64.whl (13.9MB)\n",
      "\u001b[K     |████████████████████████████████| 13.9MB 26.5MB/s eta 0:00:01\n",
      "\u001b[?25hCollecting pandas (from stldecompose)\n",
      "\u001b[?25l  Downloading https://files.pythonhosted.org/packages/fc/43/fd867e3347559845c8f993059d410c50a1e18709f1c4d4b3b47323a06a37/pandas-0.24.2-cp37-cp37m-macosx_10_6_intel.macosx_10_9_intel.macosx_10_9_x86_64.macosx_10_10_intel.macosx_10_10_x86_64.whl (15.9MB)\n",
      "\u001b[K     |████████████████████████████████| 15.9MB 20.9MB/s eta 0:00:01\n",
      "\u001b[?25hCollecting cycler>=0.10 (from matplotlib->stldecompose)\n",
      "  Downloading https://files.pythonhosted.org/packages/f7/d2/e07d3ebb2bd7af696440ce7e754c59dd546ffe1bbe732c8ab68b9c834e61/cycler-0.10.0-py2.py3-none-any.whl\n",
      "Collecting kiwisolver>=1.0.1 (from matplotlib->stldecompose)\n",
      "\u001b[?25l  Downloading https://files.pythonhosted.org/packages/df/93/8bc9b52a8846be2b9572aa0a7c881930939b06e4abe1162da6a0430b794f/kiwisolver-1.1.0-cp37-cp37m-macosx_10_6_intel.macosx_10_9_intel.macosx_10_9_x86_64.macosx_10_10_intel.macosx_10_10_x86_64.whl (113kB)\n",
      "\u001b[K     |████████████████████████████████| 122kB 25.1MB/s eta 0:00:01\n",
      "\u001b[?25hCollecting pyparsing!=2.0.4,!=2.1.2,!=2.1.6,>=2.0.1 (from matplotlib->stldecompose)\n",
      "\u001b[?25l  Downloading https://files.pythonhosted.org/packages/dd/d9/3ec19e966301a6e25769976999bd7bbe552016f0d32b577dc9d63d2e0c49/pyparsing-2.4.0-py2.py3-none-any.whl (62kB)\n",
      "\u001b[K     |████████████████████████████████| 71kB 86.5MB/s eta 0:00:01\n",
      "\u001b[?25hRequirement already satisfied, skipping upgrade: python-dateutil>=2.1 in /Library/Frameworks/Python.framework/Versions/3.7/lib/python3.7/site-packages (from matplotlib->stldecompose) (2.8.0)\n",
      "Collecting patsy (from statsmodels->stldecompose)\n",
      "\u001b[?25l  Downloading https://files.pythonhosted.org/packages/ea/0c/5f61f1a3d4385d6bf83b83ea495068857ff8dfb89e74824c6e9eb63286d8/patsy-0.5.1-py2.py3-none-any.whl (231kB)\n",
      "\u001b[K     |████████████████████████████████| 235kB 25.8MB/s eta 0:00:01\n",
      "\u001b[?25hCollecting pytz>=2011k (from pandas->stldecompose)\n",
      "\u001b[?25l  Downloading https://files.pythonhosted.org/packages/3d/73/fe30c2daaaa0713420d0382b16fbb761409f532c56bdcc514bf7b6262bb6/pytz-2019.1-py2.py3-none-any.whl (510kB)\n",
      "\u001b[K     |████████████████████████████████| 512kB 23.6MB/s eta 0:00:01\n",
      "\u001b[?25hRequirement already satisfied, skipping upgrade: six in /Library/Frameworks/Python.framework/Versions/3.7/lib/python3.7/site-packages (from cycler>=0.10->matplotlib->stldecompose) (1.12.0)\n",
      "Requirement already satisfied, skipping upgrade: setuptools in /Library/Frameworks/Python.framework/Versions/3.7/lib/python3.7/site-packages (from kiwisolver>=1.0.1->matplotlib->stldecompose) (40.8.0)\n",
      "Installing collected packages: cycler, numpy, kiwisolver, pyparsing, matplotlib, scipy, pytz, pandas, patsy, statsmodels, stldecompose\n",
      "Successfully installed cycler-0.10.0 kiwisolver-1.1.0 matplotlib-3.1.0 numpy-1.16.4 pandas-0.24.2 patsy-0.5.1 pyparsing-2.4.0 pytz-2019.1 scipy-1.3.0 statsmodels-0.9.0 stldecompose-0.0.5\n"
     ]
    }
   ],
   "source": [
    "!pip3 install stldecompose --no-cache-dir --upgrade"
   ]
  },
  {
   "cell_type": "code",
   "execution_count": 3,
   "metadata": {},
   "outputs": [
    {
     "name": "stdout",
     "output_type": "stream",
     "text": [
      "['/Users/fbarbeiro/Desktop/Master - Data Science/UOC/3 Semestre/Deep Learning/PECs/deep-learning/PEC3', '/Users/fbarbeiro/anaconda3/lib/python37.zip', '/Users/fbarbeiro/anaconda3/lib/python3.7', '/Users/fbarbeiro/anaconda3/lib/python3.7/lib-dynload', '', '/Users/fbarbeiro/anaconda3/lib/python3.7/site-packages', '/Users/fbarbeiro/anaconda3/lib/python3.7/site-packages/aeosa', '/Users/fbarbeiro/anaconda3/lib/python3.7/site-packages/IPython/extensions', '/Users/fbarbeiro/.ipython']\n"
     ]
    }
   ],
   "source": [
    "print(sys.path)"
   ]
  },
  {
   "cell_type": "code",
   "execution_count": 10,
   "metadata": {},
   "outputs": [
    {
     "name": "stdout",
     "output_type": "stream",
     "text": [
      "Requirement already up-to-date: tensorflow in /Library/Frameworks/Python.framework/Versions/3.6/lib/python3.6/site-packages (1.13.1)\n",
      "Requirement already satisfied, skipping upgrade: protobuf>=3.6.1 in /Library/Frameworks/Python.framework/Versions/3.6/lib/python3.6/site-packages (from tensorflow) (3.8.0)\n",
      "Requirement already satisfied, skipping upgrade: tensorboard<1.14.0,>=1.13.0 in /Library/Frameworks/Python.framework/Versions/3.6/lib/python3.6/site-packages (from tensorflow) (1.13.1)\n",
      "Requirement already satisfied, skipping upgrade: absl-py>=0.1.6 in /Library/Frameworks/Python.framework/Versions/3.6/lib/python3.6/site-packages (from tensorflow) (0.7.1)\n",
      "Requirement already satisfied, skipping upgrade: numpy>=1.13.3 in /Library/Frameworks/Python.framework/Versions/3.6/lib/python3.6/site-packages (from tensorflow) (1.16.4)\n",
      "Requirement already satisfied, skipping upgrade: tensorflow-estimator<1.14.0rc0,>=1.13.0 in /Library/Frameworks/Python.framework/Versions/3.6/lib/python3.6/site-packages (from tensorflow) (1.13.0)\n",
      "Requirement already satisfied, skipping upgrade: termcolor>=1.1.0 in /Library/Frameworks/Python.framework/Versions/3.6/lib/python3.6/site-packages (from tensorflow) (1.1.0)\n",
      "Requirement already satisfied, skipping upgrade: wheel>=0.26 in /Library/Frameworks/Python.framework/Versions/3.6/lib/python3.6/site-packages (from tensorflow) (0.33.4)\n",
      "Requirement already satisfied, skipping upgrade: six>=1.10.0 in /Library/Frameworks/Python.framework/Versions/3.6/lib/python3.6/site-packages (from tensorflow) (1.12.0)\n",
      "Requirement already satisfied, skipping upgrade: astor>=0.6.0 in /Library/Frameworks/Python.framework/Versions/3.6/lib/python3.6/site-packages (from tensorflow) (0.8.0)\n",
      "Requirement already satisfied, skipping upgrade: gast>=0.2.0 in /Library/Frameworks/Python.framework/Versions/3.6/lib/python3.6/site-packages (from tensorflow) (0.2.2)\n",
      "Requirement already satisfied, skipping upgrade: grpcio>=1.8.6 in /Library/Frameworks/Python.framework/Versions/3.6/lib/python3.6/site-packages (from tensorflow) (1.21.1)\n",
      "Requirement already satisfied, skipping upgrade: keras-preprocessing>=1.0.5 in /Library/Frameworks/Python.framework/Versions/3.6/lib/python3.6/site-packages (from tensorflow) (1.1.0)\n",
      "Requirement already satisfied, skipping upgrade: keras-applications>=1.0.6 in /Library/Frameworks/Python.framework/Versions/3.6/lib/python3.6/site-packages (from tensorflow) (1.0.8)\n",
      "Requirement already satisfied, skipping upgrade: setuptools in /Library/Frameworks/Python.framework/Versions/3.6/lib/python3.6/site-packages (from protobuf>=3.6.1->tensorflow) (40.6.2)\n",
      "Requirement already satisfied, skipping upgrade: werkzeug>=0.11.15 in /Library/Frameworks/Python.framework/Versions/3.6/lib/python3.6/site-packages (from tensorboard<1.14.0,>=1.13.0->tensorflow) (0.15.4)\n",
      "Requirement already satisfied, skipping upgrade: markdown>=2.6.8 in /Library/Frameworks/Python.framework/Versions/3.6/lib/python3.6/site-packages (from tensorboard<1.14.0,>=1.13.0->tensorflow) (3.1.1)\n",
      "Requirement already satisfied, skipping upgrade: mock>=2.0.0 in /Library/Frameworks/Python.framework/Versions/3.6/lib/python3.6/site-packages (from tensorflow-estimator<1.14.0rc0,>=1.13.0->tensorflow) (3.0.5)\n",
      "Requirement already satisfied, skipping upgrade: h5py in /Library/Frameworks/Python.framework/Versions/3.6/lib/python3.6/site-packages (from keras-applications>=1.0.6->tensorflow) (2.9.0)\n"
     ]
    }
   ],
   "source": [
    "!pip3 install tensorflow --no-cache-dir --upgrade"
   ]
  },
  {
   "cell_type": "code",
   "execution_count": 7,
   "metadata": {},
   "outputs": [
    {
     "name": "stdout",
     "output_type": "stream",
     "text": [
      "Collecting pip\n",
      "  Using cached https://files.pythonhosted.org/packages/5c/e0/be401c003291b56efc55aeba6a80ab790d3d4cece2778288d65323009420/pip-19.1.1-py2.py3-none-any.whl\n",
      "Installing collected packages: pip\n",
      "  Found existing installation: pip 18.1\n",
      "    Uninstalling pip-18.1:\n",
      "      Successfully uninstalled pip-18.1\n",
      "Successfully installed pip-19.1.1\n"
     ]
    }
   ],
   "source": [
    "!pip3 install --upgrade pip"
   ]
  },
  {
   "cell_type": "code",
   "execution_count": 2,
   "metadata": {},
   "outputs": [
    {
     "data": {
      "text/plain": [
       "'0.10.0.dev0+1675.g35b6aaba4'"
      ]
     },
     "execution_count": 2,
     "metadata": {},
     "output_type": "execute_result"
    }
   ],
   "source": [
    "import statsmodels\n",
    "\n",
    "statsmodels.__version__"
   ]
  },
  {
   "cell_type": "code",
   "execution_count": 5,
   "metadata": {},
   "outputs": [],
   "source": [
    "import tensorflow as tf\n",
    "from tensorflow import keras\n",
    "import numpy as np\n",
    "from stldecompose import decompose\n",
    "import matplotlib.pyplot as plt\n",
    "from sklearn.linear_model import LinearRegression\n",
    "from sklearn.preprocessing import MinMaxScaler\n",
    "from sklearn.metrics import roc_curve, auc"
   ]
  },
  {
   "cell_type": "markdown",
   "metadata": {},
   "source": [
    "## 1. Regresión con datos generados sintéticamente (5 puntos)\n",
    "\n",
    "En este apartado trabajaremos con una serie temporal generada sintéticamente utilizando numpy. A continuación trataremos de eliminar tendencias y estacionalidades para preparar los datos y, finalmente, con los datos normalizados entrenaremos varios modelos que permitirán predecir los valores futuros de la serie."
   ]
  },
  {
   "cell_type": "markdown",
   "metadata": {},
   "source": [
    "### 1.1 Generación de datos\n",
    "\n",
    "El siguiente código genera una serie temporal con cierta aleatoriedad, guarda la serie en la variable \"serie\" y la visualiza en una gráfica."
   ]
  },
  {
   "cell_type": "code",
   "execution_count": 2,
   "metadata": {},
   "outputs": [
    {
     "data": {
      "image/png": "[encoded data removed]",
      "text/plain": [
       "<Figure size 576x432 with 1 Axes>"
      ]
     },
     "metadata": {},
     "output_type": "display_data"
    }
   ],
   "source": [
    "def f(x):\n",
    "    return np.square(-x+425)/10000 + np.sin(x/8) + 0.25*np.random.randn()\n",
    "\n",
    "idx = np.arange(200, 600)\n",
    "serie = [f(x) for x in idx]\n",
    "\n",
    "plt.rc(\"figure\", figsize=(8,6))\n",
    "plt.plot(idx, serie)\n",
    "plt.show()"
   ]
  },
  {
   "cell_type": "markdown",
   "metadata": {},
   "source": [
    "### 1.2 Eliminación de tendencia y estacionalidad\n",
    "\n",
    "Para que la red neuronal pueda extraer patrones de la serie temporal es necesario transformar la serie para que los valores estén siempre en el mismo rango. Para ello, podemos extraer la tendencia y la estacionalidad de la serie y deshacer el cambio en el momento de obtener predicciones.\n",
    "\n",
    "\n",
    "Calcular la periodicidad exacta a través de la fórmula de generación de datos. Comprovar que queda bien al aplicar el método. Poner como ejercicio provar diferentes valores de estacionalidad (múltiples i divisores y otros).\n",
    "\n",
    "BONUS: Otras formas de eliminar tendencia y estacionalidad, pros y contras."
   ]
  },
  {
   "cell_type": "markdown",
   "metadata": {},
   "source": [
    "<div style=\"background-color: #EDF7FF; border-color: #7C9DBF; border-left: 5px solid #7C9DBF; padding: 0.5em;\">\n",
    "<strong>Ejercicio (0,5 ptos):</strong> Calcular el periodo de la serie a partir de la fórmula que se ha utilizado para la generación de los datos.\n",
    "</div>"
   ]
  },
  {
   "cell_type": "code",
   "execution_count": null,
   "metadata": {},
   "outputs": [],
   "source": []
  },
  {
   "cell_type": "markdown",
   "metadata": {},
   "source": [
    "<div style=\"background-color: #EDF7FF; border-color: #7C9DBF; border-left: 5px solid #7C9DBF; padding: 0.5em;\">\n",
    "<strong>Ejercicio (0,5 ptos):</strong> Extraer la tendencia y la estacionalidad utilizando la función \"decompose\" del paquete \"stldecompose\" y dibujarla con el método \"plot\" de la misma librería.\n",
    "</div>"
   ]
  },
  {
   "cell_type": "code",
   "execution_count": null,
   "metadata": {},
   "outputs": [],
   "source": []
  },
  {
   "cell_type": "markdown",
   "metadata": {},
   "source": [
    "<div style=\"background-color: #EDF7FF; border-color: #7C9DBF; border-left: 5px solid #7C9DBF; padding: 0.5em;\">\n",
    "<strong>Ejercicio (0,5 ptos):</strong> Repetir la extracción de tendencia y estacionalidad utilizando diferentes valores para el periodo. Probar con valores múltiplos y divisores del periodo, así como con otros valores al azar.\n",
    "</div>"
   ]
  },
  {
   "cell_type": "code",
   "execution_count": null,
   "metadata": {},
   "outputs": [],
   "source": []
  },
  {
   "cell_type": "markdown",
   "metadata": {},
   "source": [
    "<div style=\"background-color: #EDF7FF; border-color: #7C9DBF; border-left: 5px solid #7C9DBF; padding: 0.5em;\">\n",
    "<strong>Ejercicio (0,5 ptos):</strong> Analizar la importancia de calcular correctamente el periodo estacional de una serie temporal utilizando los resultados obtenidos anteriormente.\n",
    "</div>"
   ]
  },
  {
   "cell_type": "code",
   "execution_count": null,
   "metadata": {},
   "outputs": [],
   "source": []
  },
  {
   "cell_type": "markdown",
   "metadata": {},
   "source": [
    "<div style=\"background-color: #EDF7FF; border-color: #7C9DBF; border-left: 5px solid #7C9DBF; padding: 0.5em;\">\n",
    "<strong>[OPCIONAL] Ejercicio:</strong> Buscar información sobre otros métodos para eliminar la tendencia y estacionalidad de una serie y comentar ventajas e inconvenientes.\n",
    "</div>"
   ]
  },
  {
   "cell_type": "code",
   "execution_count": null,
   "metadata": {},
   "outputs": [],
   "source": []
  },
  {
   "cell_type": "markdown",
   "metadata": {},
   "source": [
    "### 1.3 Predicción de la tendencia\n",
    "\n",
    "La tendencia de una serie temporal cambia lentamente con el tiempo. Además, en el momento de realizar predicciones normalmente toma valores fuera del rango que aparece en los datos de entrenamiento. Esto fuerza al modelo a extrapolar, por lo que hay que utilizar modelos muy robustos para predecir la tendencia."
   ]
  },
  {
   "cell_type": "markdown",
   "metadata": {},
   "source": [
    "<div style=\"background-color: #EDF7FF; border-color: #7C9DBF; border-left: 5px solid #7C9DBF; padding: 0.5em;\">\n",
    "<strong>Ejercicio (0,5 ptos):</strong> Entrenar un modelo polinomial con las variables $x$ y $x^2$ para predecir los valores de la tendencia en el conjunto de entrenamiento. Dibujar una gráfica con la tendencia original y su predicción.\n",
    "</div>"
   ]
  },
  {
   "cell_type": "code",
   "execution_count": null,
   "metadata": {},
   "outputs": [],
   "source": []
  },
  {
   "cell_type": "markdown",
   "metadata": {},
   "source": [
    "### 1.4 Predicción de la parte estacionaria\n",
    "\n",
    "Al descomponer la serie temporal obtenemos la estacionalidad como una nueva serie temporal que se repite cada cierto tiempo, por lo que es muy adecuada para predecirla utilizando una red neuronal recurrente. Dado que las redes neuronales repiten varias veces la misma operación sobre un conjunto de datos, es importante normalizar los valores para evitar problemas de explosión o desaparición del gradiente."
   ]
  },
  {
   "cell_type": "markdown",
   "metadata": {},
   "source": [
    "<div style=\"background-color: #EDF7FF; border-color: #7C9DBF; border-left: 5px solid #7C9DBF; padding: 0.5em;\">\n",
    "<strong>Ejercicio (0,5 ptos):</strong> Normalizar los valores de la serie estacionaria a valores entre 0 y 1.\n",
    "</div>"
   ]
  },
  {
   "cell_type": "code",
   "execution_count": null,
   "metadata": {},
   "outputs": [],
   "source": []
  },
  {
   "cell_type": "markdown",
   "metadata": {},
   "source": [
    "El siguiente código genera el dataset de entrenamiento de la red recurrente. Utilizando lookback = 30 cada ejemplo del dataset contiene los 30 últimos valores de la serie y su etiqueta corresponde al siguiente valor."
   ]
  },
  {
   "cell_type": "code",
   "execution_count": 10,
   "metadata": {},
   "outputs": [],
   "source": [
    "lookback = 30\n",
    "\n",
    "features_set = [] \n",
    "labels = []  \n",
    "for i in range(lookback, seasonal_norm.shape[0]):  \n",
    "    features_set.append(seasonal_norm[i-lookback:i, 0])\n",
    "    labels.append(seasonal_norm[i, 0])\n",
    "\n",
    "features_set, labels = np.array(features_set), np.array(labels)\n",
    "features_set = np.reshape(features_set, (features_set.shape[0], features_set.shape[1], 1))"
   ]
  },
  {
   "cell_type": "markdown",
   "metadata": {},
   "source": [
    "<div style=\"background-color: #EDF7FF; border-color: #7C9DBF; border-left: 5px solid #7C9DBF; padding: 0.5em;\">\n",
    "<strong>Ejercicio (0,5 ptos):</strong> Definir y entrenar una red neuronal recurrente con celdas GRU cuya salida esté formada por una capa completamente conectada de una única neurona con función de activación lineal.\n",
    "</div>"
   ]
  },
  {
   "cell_type": "code",
   "execution_count": null,
   "metadata": {},
   "outputs": [],
   "source": []
  },
  {
   "cell_type": "markdown",
   "metadata": {},
   "source": [
    "<div style=\"background-color: #EDF7FF; border-color: #7C9DBF; border-left: 5px solid #7C9DBF; padding: 0.5em;\">\n",
    "<strong>Ejercicio (0,5 ptos):</strong> Utilizar el modelo entrenado anteriormente para predecir los valores del conjunto de entrenamiento de la serie estacionaria. Dibujar una gráfica con la tendencia original y su predicción.\n",
    "</div>"
   ]
  },
  {
   "cell_type": "code",
   "execution_count": null,
   "metadata": {},
   "outputs": [],
   "source": []
  },
  {
   "cell_type": "markdown",
   "metadata": {},
   "source": [
    "### 1.5 Predicción completa de la serie\n",
    "\n",
    "Para predecir nuevos valores de la serie original es necesario realizar predicciones con los dos modelos, deshacer la normalización de la red neuronal y sumar las dos predicciones."
   ]
  },
  {
   "cell_type": "markdown",
   "metadata": {},
   "source": [
    "<div style=\"background-color: #EDF7FF; border-color: #7C9DBF; border-left: 5px solid #7C9DBF; padding: 0.5em;\">\n",
    "<strong>Ejercicio (0,5 ptos):</strong> Calcular la predicción agregada de la serie original y dibujar en una gráfica las predicciones junto a los valores de la serie original.\n",
    "</div>"
   ]
  },
  {
   "cell_type": "code",
   "execution_count": null,
   "metadata": {},
   "outputs": [],
   "source": []
  },
  {
   "cell_type": "markdown",
   "metadata": {},
   "source": [
    "### 1.6 Predicción de valores futuros\n",
    "\n",
    "A continuación generaremos nuevos valores de la serie sintética para comprobar el rendimiento de las predicciones."
   ]
  },
  {
   "cell_type": "code",
   "execution_count": null,
   "metadata": {},
   "outputs": [],
   "source": [
    "idx_new = np.arange(600, 700)\n",
    "serie_new = [f(x) for x in idx_new]\n",
    "\n",
    "plt.rc(\"figure\", figsize=(8,6))\n",
    "plt.plot(idx_new, serie_new)\n",
    "plt.show()"
   ]
  },
  {
   "cell_type": "markdown",
   "metadata": {},
   "source": [
    "<div style=\"background-color: #EDF7FF; border-color: #7C9DBF; border-left: 5px solid #7C9DBF; padding: 0.5em;\">\n",
    "<strong>Ejercicio (0,5 ptos):</strong> Utilizar el modelo polinomial entrenado anteriormente para calcular la predicción de la tendencia en los nuevos valores de la serie.\n",
    "</div>"
   ]
  },
  {
   "cell_type": "code",
   "execution_count": null,
   "metadata": {},
   "outputs": [],
   "source": []
  },
  {
   "cell_type": "markdown",
   "metadata": {},
   "source": [
    "El siguiente código predice valores de la serie estacionaria uno a uno y utiliza los valores predichos como entrada para predecir los siguientes valores de la serie."
   ]
  },
  {
   "cell_type": "code",
   "execution_count": null,
   "metadata": {},
   "outputs": [],
   "source": [
    "pre_data = seasonal_norm[-lookback:]\n",
    "reg_orig = np.array(pre_data)\n",
    "\n",
    "test_preds = []\n",
    "for i in idx_new:\n",
    "    reg_lstm = np.reshape(reg_orig, (1, reg_orig.shape[0], 1))\n",
    "    test_pred = model.predict(reg_lstm)\n",
    "    test_preds.append(test_pred)\n",
    "    reg_orig = np.roll(reg_orig, -1)\n",
    "    reg_orig[-1] = test_pred\n",
    "\n",
    "test_preds = np.array(test_preds).reshape(-1, 1)"
   ]
  },
  {
   "cell_type": "markdown",
   "metadata": {},
   "source": [
    "Finalmente podemos agregar las predicciones de los dos modelos para los nuevos valores y mostrar toda la información en una única gráfica."
   ]
  },
  {
   "cell_type": "code",
   "execution_count": null,
   "metadata": {},
   "outputs": [],
   "source": [
    "test_pred = np.add(scaler_season.inverse_transform(test_preds).reshape(-1), pred_tendencia)"
   ]
  },
  {
   "cell_type": "code",
   "execution_count": null,
   "metadata": {},
   "outputs": [],
   "source": [
    "idx_global = np.arange(200, 700)\n",
    "obs = np.hstack([serie, serie_new])\n",
    "\n",
    "plt.rc(\"figure\", figsize=(8,6))\n",
    "plt.plot(idx_global, obs, label=\"observed\")\n",
    "plt.plot(idx[lookback:], train_pred, label=\"predicted train\")\n",
    "plt.plot(idx_new, test_pred, label=\"predicted test\")\n",
    "plt.legend(loc=\"lower right\")\n",
    "plt.show()"
   ]
  },
  {
   "cell_type": "markdown",
   "metadata": {},
   "source": [
    "## 2. Clasificación de textos (5 puntos)\n",
    "\n",
    "En este apartado trabajaremos con el conjunto de datos de noticias de Reuters clasificadas en 46 categorías diferentes. En lugar de clasificar la categoría para cada noticia, entrenaremos una red neuronal siamesa que prediga si dos noticias pertenecen a la misma categoría o no."
   ]
  },
  {
   "cell_type": "markdown",
   "metadata": {},
   "source": [
    "### 2.1 Carga y preprocesado de los datos\n",
    "\n",
    "El siguiente código carga los datos de las noticias directamente del repositorio de Keras."
   ]
  },
  {
   "cell_type": "code",
   "execution_count": null,
   "metadata": {},
   "outputs": [],
   "source": [
    "print(\"Cargando datos...\")\n",
    "num_words = 10000\n",
    "(x_train_orig, y_train_orig), (x_test_orig, y_test_orig) = keras.datasets.reuters.load_data(num_words=num_words)\n",
    "print(\"Finalizado\")"
   ]
  },
  {
   "cell_type": "markdown",
   "metadata": {},
   "source": [
    "Cada noticia tiene una longitud diferente pero, para facilitar el entrenamiento de la red neuronal recurrente, igualaremos la longitud de todas las secuencias utilizando un carácter especial de \"padding\"."
   ]
  },
  {
   "cell_type": "code",
   "execution_count": null,
   "metadata": {},
   "outputs": [],
   "source": [
    "x_train = keras.preprocessing.sequence.pad_sequences(x_train_orig, maxlen=300)\n",
    "x_test = keras.preprocessing.sequence.pad_sequences(x_test_orig, maxlen=300)\n",
    "\n",
    "y_train = y_train_orig\n",
    "y_test = y_test_orig"
   ]
  },
  {
   "cell_type": "markdown",
   "metadata": {},
   "source": [
    "### 2.2 Preparación de los conjuntos de entrenamiento y test\n",
    "\n",
    "Para entrenar un modelo que prediga si dos noticias pertenecen o no a la misma categoría debemos crear conjuntos de datos aparejados. El siguiente código genera los conjuntos de entrenamiento y test, cada uno con 20.000 parejas escogidas al azar. Es importante que las parejas para cada conjunto se generen de forma que las dos noticias que forman una pareja pertenezcan al mismo conjunto originalmente (entrenamiento o test), de forma que en el conjunto de parejas de test no aparezca en ningún caso una noticia que también estuviera en el conjunto de entrenamiento."
   ]
  },
  {
   "cell_type": "code",
   "execution_count": null,
   "metadata": {},
   "outputs": [],
   "source": [
    "n_examples = 20000\n",
    "\n",
    "train_pairs = np.random.choice(range(x_train.shape[0]), (n_examples, 2))\n",
    "test_pairs = np.random.choice(range(x_test.shape[0]), (n_examples, 2))"
   ]
  },
  {
   "cell_type": "code",
   "execution_count": null,
   "metadata": {},
   "outputs": [],
   "source": [
    "x_train_left = x_train[train_pairs][:,0]\n",
    "x_train_right = x_train[train_pairs][:,1]\n",
    "\n",
    "y_train_pairs = y_train[train_pairs]\n",
    "train_labels = (y_train_pairs[:,0] == y_train_pairs[:,1]).astype(np.int)"
   ]
  },
  {
   "cell_type": "code",
   "execution_count": null,
   "metadata": {},
   "outputs": [],
   "source": [
    "x_test_left = x_test[test_pairs][:,0]\n",
    "x_test_right = x_test[test_pairs][:,1]\n",
    "\n",
    "y_test_pairs = y_test[test_pairs]\n",
    "test_labels = (y_test_pairs[:,0] == y_test_pairs[:,1]).astype(np.int)"
   ]
  },
  {
   "cell_type": "markdown",
   "metadata": {},
   "source": [
    "### 2.3 Definición y entrenamiento de la red neuronal\n",
    "\n",
    "A continuación utilizaremos una red recurrente siamesa para resolver el problema de clasificación que hemos preparado. Una red recurrente siamesa es una red neuronal que tiene una parte recurrente que se aplica a dos entradas diferentes para obtener una \"codificación\" (los mismos pesos se utilizan con las dos entradas por lo que no importa si, en una pareja, una noticia va en primera o en segunda posición). Entonces, la red siamesa contiene otra parte no recurrente que combina la codificación de las dos entradas para predecir una clasificacion."
   ]
  },
  {
   "cell_type": "markdown",
   "metadata": {},
   "source": [
    "El siguiente diagrama muestra la red neuronal recurrente que utilizaremos:\n",
    "<img src=\"siamese_network.png\" alt=\"Diagrama de la red neuronal siamesa\" style=\"height: 500px;\"/>"
   ]
  },
  {
   "cell_type": "markdown",
   "metadata": {},
   "source": [
    "<div style=\"background-color: #EDF7FF; border-color: #7C9DBF; border-left: 5px solid #7C9DBF; padding: 0.5em;\">\n",
    "<strong>Ejercicio (2 ptos):</strong> Definir y entrenar la red neuronal recurrente que se muestra en el diagrama.\n",
    "</div>"
   ]
  },
  {
   "cell_type": "code",
   "execution_count": null,
   "metadata": {},
   "outputs": [],
   "source": []
  },
  {
   "cell_type": "markdown",
   "metadata": {},
   "source": [
    "### 2.4 Análisis de los resultados\n",
    "\n",
    "Dado que el problema de clasificación que hemos utilizado para entrenar la red neuronal tiene únicamente dos clases (0 y 1) una métrica muy útil para validar el rendimiento del modelo es el AUC ROC."
   ]
  },
  {
   "cell_type": "markdown",
   "metadata": {},
   "source": [
    "<div style=\"background-color: #EDF7FF; border-color: #7C9DBF; border-left: 5px solid #7C9DBF; padding: 0.5em;\">\n",
    "<strong>Ejercicio (1,5 ptos):</strong> Utilizar el modelo para predecir la clasificación de las parejas tanto del conjunto de entrenamiento como del conjunto de test. A continuación, mostrar en una gráfica las curvas ROC para el conjunto de entrenamiento y para el de test y calcular el AUC ROC en cada caso.\n",
    "</div>"
   ]
  },
  {
   "cell_type": "code",
   "execution_count": null,
   "metadata": {},
   "outputs": [],
   "source": []
  },
  {
   "cell_type": "markdown",
   "metadata": {},
   "source": [
    "<div style=\"background-color: #EDF7FF; border-color: #7C9DBF; border-left: 5px solid #7C9DBF; padding: 0.5em;\">\n",
    "<strong>Ejercicio (1,5 ptos):</strong> Comentar la relación entre el crecimiento de \"True Positive Rate\" y el crecimiento de \"False Positive Rate\".\n",
    "</div>"
   ]
  },
  {
   "cell_type": "code",
   "execution_count": null,
   "metadata": {},
   "outputs": [],
   "source": []
  }
 ],
 "metadata": {
  "celltoolbar": "Raw Cell Format",
  "kernelspec": {
   "display_name": "Python 3",
   "language": "python",
   "name": "python3"
  },
  "language_info": {
   "codemirror_mode": {
    "name": "ipython",
    "version": 3
   },
   "file_extension": ".py",
   "mimetype": "text/x-python",
   "name": "python",
   "nbconvert_exporter": "python",
   "pygments_lexer": "ipython3",
   "version": "3.6.8"
  }
 },
 "nbformat": 4,
 "nbformat_minor": 2
}
