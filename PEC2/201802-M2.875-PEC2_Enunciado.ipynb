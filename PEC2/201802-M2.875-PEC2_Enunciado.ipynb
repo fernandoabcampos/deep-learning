{
 "cells": [
  {
   "cell_type": "markdown",
   "metadata": {},
   "source": [
    "<div style=\"width: 100%; clear: both;\">\n",
    "<div style=\"float: left; width: 50%;\">\n",
    "<img src=\"http://www.uoc.edu/portal/_resources/common/imatges/marca_UOC/UOC_Masterbrand.jpg\", align=\"left\">\n",
    "</div>\n",
    "<div style=\"float: right; width: 50%;\">\n",
    "<p style=\"margin: 0; padding-top: 22px; text-align:right;\">M2.875 · Deep Learning · PEC2</p>\n",
    "<p style=\"margin: 0; text-align:right;\">2018-2 · Máster universitario en Ciencia de datos (Data science)</p>\n",
    "<p style=\"margin: 0; text-align:right; padding-button: 100px;\">Estudios de Informática, Multimedia y Telecomunicación</p>\n",
    "<p style=\"margin: 0; text-align:right; padding-button: 100px;\">Alumno: <b>Fernando Antonio Barbeiro Campos</b> - <a>fbarbeiro@uoc.edu</a></p>\n",
    "</div>\n",
    "</div>\n",
    "<div style=\"width:100%;\">&nbsp;</div>\n",
    "\n",
    "\n",
    "# PEC2: Redes Neuronales Convolucionales con KERAS"
   ]
  },
  {
   "cell_type": "markdown",
   "metadata": {},
   "source": [
    "En esta práctica vamos a implementar dos redes neuronales convolucionales para reconocer los dígitos del conjunto de datos de referencia MNIST. Además, entrenaremos también un modelo sencillo de super-resolución. En concreto se implementarán los siguientes tres puntos:\n",
    "\n",
    "1. Una red neuronal convolucional de una capa\n",
    "2. Una red neuronal convolucional profunda con x capas\n",
    "3. Un modelo de super-resolución\n",
    "\n",
    "En los tres casos se utilizará la librería Keras para la implementación del modelo, la compilación y el entrenamiento. A continuación utulizaremos también Keras para predecir la clasificación de imágenes del conjunto de test.\n",
    "\n",
    "**Importante: Cada uno de los ejercicios puede suponer varios minutos de ejecución, por lo que la entrega debe hacerse en formato notebook y en formato html donde se vea el código y los resultados y comentarios de cada ejercicio. Para exportar el notebook a html puede hacerse desde el menú File $\\to$ Download as $\\to$ HTML.**"
   ]
  },
  {
   "cell_type": "markdown",
   "metadata": {},
   "source": [
    "# 0 Inicialización y carga de datos"
   ]
  },
  {
   "cell_type": "markdown",
   "metadata": {},
   "source": [
    "El siguiente código carga los paquetes necesarios para la práctica y además lee los datos que utilizaremos para entrenar la red neuronal. El Dataset MNIST corresponde a imágenes de digitos del 0 al 9 de tamaño 28x28 píxels."
   ]
  },
  {
   "cell_type": "code",
   "execution_count": 87,
   "metadata": {},
   "outputs": [],
   "source": [
    "import numpy as np\n",
    "import keras\n",
    "from keras.datasets import mnist\n",
    "from keras.utils import to_categorical\n",
    "from keras.models import Sequential\n",
    "from keras.layers import Dense, Conv2D, Flatten, Activation, Dropout, MaxPooling2D, Deconv2D\n",
    "import matplotlib.pyplot as plt\n"
   ]
  },
  {
   "cell_type": "code",
   "execution_count": 2,
   "metadata": {},
   "outputs": [],
   "source": [
    "# Descarga de el dataset MNIST y hace la partición train/test\n",
    "(x_train_orig, y_train_orig), (x_test_orig, y_test_orig) = mnist.load_data()"
   ]
  },
  {
   "cell_type": "code",
   "execution_count": 3,
   "metadata": {},
   "outputs": [
    {
     "data": {
      "image/png": "[encoded data removed]",
      "text/plain": [
       "<Figure size 432x288 with 1 Axes>"
      ]
     },
     "metadata": {
      "needs_background": "light"
     },
     "output_type": "display_data"
    }
   ],
   "source": [
    "#Visualizamos la primera imagen del dataset\n",
    "first_image = x_train_orig[0]\n",
    "first_image = np.array(first_image, dtype='float')\n",
    "pixels = first_image.reshape((28, 28))\n",
    "plt.imshow(pixels, cmap='gray')\n",
    "plt.show()"
   ]
  },
  {
   "cell_type": "code",
   "execution_count": 4,
   "metadata": {},
   "outputs": [
    {
     "data": {
      "text/plain": [
       "(28, 28)"
      ]
     },
     "execution_count": 4,
     "metadata": {},
     "output_type": "execute_result"
    }
   ],
   "source": [
    "# Comprobación del tamaño de la imagen\n",
    "x_train_orig[0].shape"
   ]
  },
  {
   "cell_type": "markdown",
   "metadata": {},
   "source": [
    "## 1. Red Neuronal Convolucional de una capa [4 puntos]\n"
   ]
  },
  {
   "cell_type": "markdown",
   "metadata": {},
   "source": [
    "A continuación implementaremos una red neuronal convolucional de una capa y haremos el entrenamiento y test sobre el dataset MNIST. Tenemos 60000 imágenes para entrenar y 10000 para testear. "
   ]
  },
  {
   "cell_type": "markdown",
   "metadata": {},
   "source": [
    "### 1.1 Pre-procesado de datos\n",
    "\n",
    "El primer paso para entrenar una red neuronal consiste en pre-procesar los datos de entrenamiento y test para que cuadren con el input de la red neuronal.\n"
   ]
  },
  {
   "cell_type": "markdown",
   "metadata": {},
   "source": [
    "<div style=\"background-color: #EDF7FF; border-color: #7C9DBF; border-left: 5px solid #7C9DBF; padding: 0.5em;\">\n",
    "<strong>Ejercicio [0,5 pts.]:</strong> Ajustar el tamaño de los datos de entrenamiento y test utilizando 4 dimensiones (la última dimnesión tiene que ser 1 para indicar que las imágenes están en escala de grises). TIP: utilitar el número de datos de entrenamiento y test y el tamaño de las imágenes.\n",
    "</div>"
   ]
  },
  {
   "cell_type": "code",
   "execution_count": 5,
   "metadata": {},
   "outputs": [],
   "source": [
    "# Usando TIP: ([0] - numero imagenes, [28, 28, 1] - tamaño, gris)\n",
    "\n",
    "x_train = x_train_orig.reshape(x_train_orig.shape[0], 28, 28, 1).astype('float32')\n",
    "x_test = x_test_orig.reshape(x_test_orig.shape[0], 28, 28, 1).astype('float32')\n",
    "\n",
    "# He optado por normalizar de 0-255 a 0-1\n",
    "x_train = x_train / 255\n",
    "x_test = x_test / 255"
   ]
  },
  {
   "cell_type": "markdown",
   "metadata": {},
   "source": [
    "<div style=\"background-color: #EDF7FF; border-color: #7C9DBF; border-left: 5px solid #7C9DBF; padding: 0.5em;\">\n",
    "<strong>Ejercicio [0,5 pts.]:</strong> Codificar los valores de las etiquetas de salida en un vector one-hot. Por ejemplo, el vector de salida para una imagen que contiene un 5 sería: [0., 0., 0., 0., 0., 1., 0., 0., 0., 0.]. TIP: se puede utilizar la función to_categorical de Keras.utils. \n",
    "</div>"
   ]
  },
  {
   "cell_type": "code",
   "execution_count": 6,
   "metadata": {},
   "outputs": [
    {
     "name": "stdout",
     "output_type": "stream",
     "text": [
      "10\n"
     ]
    }
   ],
   "source": [
    "y_train = to_categorical(y_train_orig)\n",
    "y_test = to_categorical(y_test_orig)\n",
    "\n",
    "# Lo sé que está definida num_classes abajo, esa es para confirmación\n",
    "num_classes = y_test.shape[1]\n",
    "print(num_classes)"
   ]
  },
  {
   "cell_type": "markdown",
   "metadata": {},
   "source": [
    "### 1.2 Creación del modelo\n",
    "\n",
    "\n",
    "Vamos a usar un modelo Secuencial de Keras ya que es muy fácil de utilizar. Este tipo de modelos nos permiten construir el modelo capa a capa. En concreto:\n",
    "\n",
    "- La primera capa que añadiremos será una capa convolucional con las siguientes propiedades: \n",
    "    - Número de kernels (neuronas) primera capa: 64 neuronas\n",
    "    - Tamaño de los kernels: 3x3\n",
    "    - Activacion de los kernels: ReLU\n",
    "- A continuación añadiremos una capa Flatten para conectar la salida de la capa convolucional con la entrada de una capa densa.\n",
    "- Por último, añadiremos una capa densa de salida, y por lo tanto tendrá tantas neuronas como clases queremos predecir. La activación de esta última capa sera Softmax. La predicción final del modelo será entonces la clase que tenga una probabilidad más alta. \n"
   ]
  },
  {
   "cell_type": "markdown",
   "metadata": {},
   "source": [
    "<div style=\"background-color: #EDF7FF; border-color: #7C9DBF; border-left: 5px solid #7C9DBF; padding: 0.5em;\">\n",
    "<strong>Ejercicio [2 pts.]:</strong> Construir el modelo según los requerimientos indicados.\n",
    "</div>"
   ]
  },
  {
   "cell_type": "code",
   "execution_count": 7,
   "metadata": {},
   "outputs": [],
   "source": [
    "# Comentado el num_classes pq fue definido arriba\n",
    "# num_classes = 10\n",
    "\n",
    "model = Sequential()\n",
    "model.add(Conv2D(64, (3, 3), activation='relu'))\n",
    "model.add(Flatten())\n",
    "model.add(Dense(num_classes, activation='softmax'))"
   ]
  },
  {
   "cell_type": "markdown",
   "metadata": {},
   "source": [
    "### 1.3 Compilación el modelo\n",
    "\n",
    "Una vez definido el modelo se tiene que compilamos para que Keras prepare el entrenamiento. Para ello vamos a utilizar el algoritmo de optimización ADAM, la función de coste \"categorical_crossentropy\" y la métrica \"accuracy\""
   ]
  },
  {
   "cell_type": "code",
   "execution_count": 8,
   "metadata": {},
   "outputs": [],
   "source": [
    "model.compile(optimizer='adam', loss='categorical_crossentropy', metrics=['accuracy'])"
   ]
  },
  {
   "cell_type": "markdown",
   "metadata": {},
   "source": [
    "### 1.4 Entrenamiento del modelo\n",
    "\n",
    "Entrenamos ahora el modelo. Para ello haremos que el modelo vea cada imagen 9 veces distintas, y utilizaremos el conjunto de test para la validación del proceso."
   ]
  },
  {
   "cell_type": "markdown",
   "metadata": {},
   "source": [
    "<div style=\"background-color: #EDF7FF; border-color: #7C9DBF; border-left: 5px solid #7C9DBF; padding: 0.5em;\">\n",
    "<strong>Ejercicio [0,5 pts.]:</strong> Entrenar el modelo durante 9 epochs.\n",
    "</div>"
   ]
  },
  {
   "cell_type": "code",
   "execution_count": 12,
   "metadata": {},
   "outputs": [
    {
     "name": "stdout",
     "output_type": "stream",
     "text": [
      "Train on 60000 samples, validate on 10000 samples\n",
      "Epoch 1/9\n",
      "60000/60000 [==============================] - 19s 325us/step - loss: 0.1522 - acc: 0.9560 - val_loss: 0.0747 - val_acc: 0.9767\n",
      "Epoch 2/9\n",
      "60000/60000 [==============================] - 21s 347us/step - loss: 0.0618 - acc: 0.9813 - val_loss: 0.0698 - val_acc: 0.9775\n",
      "Epoch 3/9\n",
      "60000/60000 [==============================] - 22s 363us/step - loss: 0.0440 - acc: 0.9859 - val_loss: 0.0575 - val_acc: 0.9825\n",
      "Epoch 4/9\n",
      "60000/60000 [==============================] - 21s 355us/step - loss: 0.0310 - acc: 0.9904 - val_loss: 0.0578 - val_acc: 0.9814\n",
      "Epoch 5/9\n",
      "60000/60000 [==============================] - 21s 353us/step - loss: 0.0223 - acc: 0.9929 - val_loss: 0.0688 - val_acc: 0.9804\n",
      "Epoch 6/9\n",
      "60000/60000 [==============================] - 22s 366us/step - loss: 0.0153 - acc: 0.9952 - val_loss: 0.0692 - val_acc: 0.9803\n",
      "Epoch 7/9\n",
      "60000/60000 [==============================] - 22s 364us/step - loss: 0.0121 - acc: 0.9958 - val_loss: 0.0802 - val_acc: 0.9803\n",
      "Epoch 8/9\n",
      "60000/60000 [==============================] - 21s 347us/step - loss: 0.0086 - acc: 0.9973 - val_loss: 0.0755 - val_acc: 0.9818\n",
      "Epoch 9/9\n",
      "60000/60000 [==============================] - 22s 364us/step - loss: 0.0070 - acc: 0.9978 - val_loss: 0.0849 - val_acc: 0.9791\n"
     ]
    }
   ],
   "source": [
    "#Entrenamiento del modelo\n",
    "n_epochs_onelayer = 9\n",
    "mfit_onelayer = model.fit(x_train, y_train, validation_data=(x_test, y_test), epochs=n_epochs_onelayer)"
   ]
  },
  {
   "cell_type": "markdown",
   "metadata": {},
   "source": [
    "### 1.5  Evolución de la precisión"
   ]
  },
  {
   "cell_type": "markdown",
   "metadata": {},
   "source": [
    "<div style=\"background-color: #EDF7FF; border-color: #7C9DBF; border-left: 5px solid #7C9DBF; padding: 0.5em;\">\n",
    "<strong>Ejercicio [0,5 pts.]:</strong> Visualizar la evolución del accuracy en el conjunto de entrenamiento y de test en función de las épocas.\n",
    "</div>"
   ]
  },
  {
   "cell_type": "code",
   "execution_count": 102,
   "metadata": {},
   "outputs": [],
   "source": [
    "## TODO: plot del training loss y el accuracy\n",
    "def plot_prediction(n_epochs, mfit):\n",
    "    \n",
    "    print(mfit.history.keys())\n",
    "    \n",
    "    #accuracy\n",
    "    plt.plot(mfit.history['acc'])\n",
    "    plt.plot(mfit.history['val_acc'])\n",
    "    plt.title('model accuracy')\n",
    "    plt.ylabel('accuracy')\n",
    "    plt.xlabel('epoch')\n",
    "    plt.legend(['train', 'test'], loc='upper left')\n",
    "    plt.show()\n",
    "    \n",
    "    # loss\n",
    "    plt.plot(mfit.history['loss'])\n",
    "    plt.plot(mfit.history['val_loss'])\n",
    "    plt.title('model loss')\n",
    "    plt.ylabel('loss')\n",
    "    plt.xlabel('epoch')\n",
    "    plt.legend(['train', 'test'], loc='upper left')\n",
    "    plt.show()\n",
    "\n",
    "    \n",
    "    return plt"
   ]
  },
  {
   "cell_type": "code",
   "execution_count": 14,
   "metadata": {},
   "outputs": [
    {
     "name": "stdout",
     "output_type": "stream",
     "text": [
      "dict_keys(['val_loss', 'val_acc', 'loss', 'acc'])\n"
     ]
    },
    {
     "data": {
      "image/png": "[encoded data removed]",
      "text/plain": [
       "<Figure size 432x288 with 1 Axes>"
      ]
     },
     "metadata": {
      "needs_background": "light"
     },
     "output_type": "display_data"
    },
    {
     "data": {
      "image/png": "[encoded data removed]",
      "text/plain": [
       "<Figure size 432x288 with 1 Axes>"
      ]
     },
     "metadata": {
      "needs_background": "light"
     },
     "output_type": "display_data"
    },
    {
     "data": {
      "text/plain": [
       "<module 'matplotlib.pyplot' from '/Library/Frameworks/Python.framework/Versions/3.6/lib/python3.6/site-packages/matplotlib/pyplot.py'>"
      ]
     },
     "execution_count": 14,
     "metadata": {},
     "output_type": "execute_result"
    }
   ],
   "source": [
    "plot_prediction(n_epochs_onelayer, mfit_onelayer)"
   ]
  },
  {
   "cell_type": "markdown",
   "metadata": {},
   "source": [
    "### 1.4 Predicción\n",
    "\n",
    "Finalmente podemos hacer la predicción para cuatro de las imágenes del conjunto de test y mirar si los resultados son o no correctos"
   ]
  },
  {
   "cell_type": "code",
   "execution_count": 65,
   "metadata": {
    "scrolled": true
   },
   "outputs": [
    {
     "name": "stdout",
     "output_type": "stream",
     "text": [
      "[[1.0463276e-18 1.7636139e-20 1.2542912e-14 5.7349492e-10 6.2208641e-20\n",
      "  1.1854067e-15 3.8202904e-26 1.0000000e+00 1.1120600e-12 3.7811838e-13]\n",
      " [9.3817445e-15 4.4448813e-14 1.0000000e+00 7.9190268e-13 6.8111611e-25\n",
      "  3.8991247e-15 1.3010788e-10 3.2828177e-29 1.0341249e-12 1.0192651e-21]\n",
      " [1.3760548e-06 9.9966836e-01 4.6706487e-06 1.0200889e-08 2.9561791e-04\n",
      "  1.0029210e-07 1.2375638e-07 9.4498986e-08 2.9621579e-05 8.1756511e-11]\n",
      " [1.0000000e+00 6.4238044e-18 2.9461291e-11 5.9168114e-15 3.1898705e-16\n",
      "  1.9581021e-12 7.5354722e-10 1.5285926e-14 2.0758022e-13 1.9255701e-11]]\n",
      "\n",
      "Representan los indices:  [7 2 1 0] \n",
      "\n",
      "\n",
      "[[0. 0. 0. 0. 0. 0. 0. 1. 0. 0.]\n",
      " [0. 0. 1. 0. 0. 0. 0. 0. 0. 0.]\n",
      " [0. 1. 0. 0. 0. 0. 0. 0. 0. 0.]\n",
      " [1. 0. 0. 0. 0. 0. 0. 0. 0. 0.]]\n",
      "\n",
      "Representan los indices:  [7 2 1 0]\n"
     ]
    }
   ],
   "source": [
    "# Hacemos la predicción para las 4 primeras imágenes del set de test\n",
    "predictions = model.predict(x_test[:4])\n",
    "print(predictions)\n",
    "\n",
    "# Para facilitar en la identificación\n",
    "print('\\nRepresentan los indices: ', np.argmax(predictions, axis=1), '\\n\\n')\n",
    "\n",
    "# Mostramos el ground truth para las primeras 4 imágenes\n",
    "print(y_test[:4])\n",
    "print('\\nRepresentan los indices: ', np.argmax(y_test[:4], axis=1))\n",
    "\n"
   ]
  },
  {
   "cell_type": "markdown",
   "metadata": {},
   "source": [
    "## 2. Deep CNN + Dropout [3 puntos]"
   ]
  },
  {
   "cell_type": "markdown",
   "metadata": {},
   "source": [
    "En el ejercicio anterior hemos implementado una red convolucional de una sola capa. Ahora vamos a implementar una red neuronal convolucional profunda y veremos como ésto se traduce en un mejor rendimiento en los resultados. Primero inicializaremos y pre-procesaremos los datos. "
   ]
  },
  {
   "cell_type": "markdown",
   "metadata": {},
   "source": [
    "<div style=\"background-color: #EDF7FF; border-color: #7C9DBF; border-left: 5px solid #7C9DBF; padding: 0.5em;\">\n",
    "<strong>Ejercicio [0,5 pts.]:</strong> Codificar los valores de las etiquetas de salida en un vector one-hot. TIP: se puede utilizar la función to_categorical de Keras.utils. \n",
    "</div>"
   ]
  },
  {
   "cell_type": "code",
   "execution_count": 68,
   "metadata": {},
   "outputs": [
    {
     "data": {
      "text/plain": [
       "array([[0., 0., 0., 0., 0., 1., 0., 0., 0., 0.],\n",
       "       [1., 0., 0., 0., 0., 0., 0., 0., 0., 0.]], dtype=float32)"
      ]
     },
     "execution_count": 68,
     "metadata": {},
     "output_type": "execute_result"
    }
   ],
   "source": [
    "# Puedo estar equivocado, pero lo que se pide está hecho del ejercicio 1.1 Pre-procesado de datos. 2 Ejemplos:\n",
    "y_train[:2]"
   ]
  },
  {
   "cell_type": "code",
   "execution_count": 69,
   "metadata": {},
   "outputs": [],
   "source": [
    "#Innecesario\n",
    "y_train = to_categorical(y_train_orig)\n",
    "y_test = to_categorical(y_test_orig)"
   ]
  },
  {
   "cell_type": "markdown",
   "metadata": {},
   "source": [
    "En este caso volveremos a utilizar un modelo Sequential de Keras que constará de: \n",
    "- Dos capas de convolución de 32 y 64 kernels respectivamente de tamaño 3x3, y con función de activación relu\n",
    "- Una capa de MaxPooling con un tamaño de 2x2\n",
    "- Una capa de Dropout con un rate=0.25\n",
    "- Una capa Flatten\n",
    "- Una capa densa con 128 neuronas y función de activación relu\n",
    "- Una capa de Dropout con un rate=0.5\n",
    "- Una capa densa con función de activación softmax"
   ]
  },
  {
   "cell_type": "markdown",
   "metadata": {},
   "source": [
    "<div style=\"background-color: #EDF7FF; border-color: #7C9DBF; border-left: 5px solid #7C9DBF; padding: 0.5em;\">\n",
    "<strong>Ejercicio [1,5 pts.]:</strong> Implementar la arquitectura de la red neuronal con las características indicadas.\n",
    "</div>"
   ]
  },
  {
   "cell_type": "code",
   "execution_count": 71,
   "metadata": {},
   "outputs": [],
   "source": [
    "##TODO construir la red neuronal\n",
    "def deep_cnn():\n",
    "    deep_model = Sequential()\n",
    "    deep_model.add(Conv2D(32, (3, 3), activation='relu'))\n",
    "    deep_model.add(Conv2D(64, (3, 3), activation='relu'))\n",
    "    deep_model.add(MaxPooling2D(pool_size=(2, 2)))\n",
    "    deep_model.add(Dropout(0.25))\n",
    "    deep_model.add(Flatten())\n",
    "    deep_model.add(Dense(128, activation='relu'))\n",
    "    deep_model.add(Dropout(0.5))\n",
    "    deep_model.add(Dense(num_classes, activation='softmax'))\n",
    "    return deep_model"
   ]
  },
  {
   "cell_type": "markdown",
   "metadata": {},
   "source": [
    "A continuación compilamos, entrenamos y evaluamos el modelo. Para la compilación volveremos a utilizar la función de coste \"categorical_crossentropy\" y la métrica \"accuracy\", pero en este caso utilizaremos el optimizador Adadelta.\n",
    "\n",
    "El entrenamiento del modelo lo haremos durante 12 épocas, utilizando un batch_size de 128, y el conjunto de test para validar. Finalmente utilizaremos también el conjunto de test para evaluar el modelo."
   ]
  },
  {
   "cell_type": "markdown",
   "metadata": {},
   "source": [
    "<div style=\"background-color: #EDF7FF; border-color: #7C9DBF; border-left: 5px solid #7C9DBF; padding: 0.5em;\">\n",
    "<strong>Ejercicio [0,5 pts.]:</strong> Entrenar el modelo durante 12 épocas, con un batch_size de 128, y el conjunto de test como validación. La función de coste tiene que ser \"categorical_crossentropy\", el optimizador Adadelta i hay que mostrar la métrica \"accuracy\".\n",
    "</div>"
   ]
  },
  {
   "cell_type": "code",
   "execution_count": 76,
   "metadata": {},
   "outputs": [
    {
     "name": "stdout",
     "output_type": "stream",
     "text": [
      "Train on 60000 samples, validate on 10000 samples\n",
      "Epoch 1/12\n",
      "60000/60000 [==============================] - 74s 1ms/step - loss: 0.2538 - acc: 0.9230 - val_loss: 0.0607 - val_acc: 0.9793\n",
      "Epoch 2/12\n",
      "60000/60000 [==============================] - 82s 1ms/step - loss: 0.0878 - acc: 0.9738 - val_loss: 0.0405 - val_acc: 0.9860\n",
      "Epoch 3/12\n",
      "60000/60000 [==============================] - 83s 1ms/step - loss: 0.0670 - acc: 0.9805 - val_loss: 0.0348 - val_acc: 0.9875\n",
      "Epoch 4/12\n",
      "60000/60000 [==============================] - 81s 1ms/step - loss: 0.0546 - acc: 0.9842 - val_loss: 0.0358 - val_acc: 0.9881\n",
      "Epoch 5/12\n",
      "60000/60000 [==============================] - 79s 1ms/step - loss: 0.0455 - acc: 0.9859 - val_loss: 0.0301 - val_acc: 0.9904\n",
      "Epoch 6/12\n",
      "60000/60000 [==============================] - 80s 1ms/step - loss: 0.0424 - acc: 0.9871 - val_loss: 0.0275 - val_acc: 0.9911\n",
      "Epoch 7/12\n",
      "60000/60000 [==============================] - 76s 1ms/step - loss: 0.0404 - acc: 0.9881 - val_loss: 0.0264 - val_acc: 0.9915\n",
      "Epoch 8/12\n",
      "60000/60000 [==============================] - 73s 1ms/step - loss: 0.0355 - acc: 0.9896 - val_loss: 0.0283 - val_acc: 0.9912\n",
      "Epoch 9/12\n",
      "60000/60000 [==============================] - 73s 1ms/step - loss: 0.0328 - acc: 0.9896 - val_loss: 0.0284 - val_acc: 0.9918\n",
      "Epoch 10/12\n",
      "60000/60000 [==============================] - 73s 1ms/step - loss: 0.0313 - acc: 0.9904 - val_loss: 0.0286 - val_acc: 0.9904\n",
      "Epoch 11/12\n",
      "60000/60000 [==============================] - 74s 1ms/step - loss: 0.0286 - acc: 0.9913 - val_loss: 0.0275 - val_acc: 0.9911\n",
      "Epoch 12/12\n",
      "60000/60000 [==============================] - 75s 1ms/step - loss: 0.0265 - acc: 0.9917 - val_loss: 0.0246 - val_acc: 0.9917\n",
      "Test loss: 0.02461717686212305\n",
      "Test accuracy: 0.9917\n"
     ]
    }
   ],
   "source": [
    "batch_size = 128\n",
    "n_epochs = 12 \n",
    "deep_model = deep_cnn()\n",
    "deep_model.compile(loss='categorical_crossentropy', optimizer='adadelta', metrics=['accuracy']) \n",
    "\n",
    "mfit = deep_model.fit(x_train, y_train, validation_data=(x_test, y_test), epochs= n_epochs, batch_size=batch_size)\n",
    "\n",
    "#Evaluación el modelo sobre el conjunto de test\n",
    "score = deep_model.evaluate(x_test, y_test, verbose=0)\n",
    "print('Test loss:', score[0])\n",
    "print('Test accuracy:', score[1])"
   ]
  },
  {
   "cell_type": "code",
   "execution_count": 77,
   "metadata": {},
   "outputs": [
    {
     "name": "stdout",
     "output_type": "stream",
     "text": [
      "dict_keys(['val_loss', 'val_acc', 'loss', 'acc'])\n"
     ]
    },
    {
     "data": {
      "image/png": "[encoded data removed]",
      "text/plain": [
       "<Figure size 432x288 with 1 Axes>"
      ]
     },
     "metadata": {
      "needs_background": "light"
     },
     "output_type": "display_data"
    },
    {
     "data": {
      "image/png": "[encoded data removed]",
      "text/plain": [
       "<Figure size 432x288 with 1 Axes>"
      ]
     },
     "metadata": {
      "needs_background": "light"
     },
     "output_type": "display_data"
    },
    {
     "data": {
      "text/plain": [
       "<module 'matplotlib.pyplot' from '/Library/Frameworks/Python.framework/Versions/3.6/lib/python3.6/site-packages/matplotlib/pyplot.py'>"
      ]
     },
     "execution_count": 77,
     "metadata": {},
     "output_type": "execute_result"
    }
   ],
   "source": [
    "# Visualizción de la evolución de la métrica accuracy\n",
    "plot_prediction(n_epochs, mfit)"
   ]
  },
  {
   "cell_type": "code",
   "execution_count": 79,
   "metadata": {},
   "outputs": [
    {
     "name": "stdout",
     "output_type": "stream",
     "text": [
      "[[2.29551014e-12 1.08743417e-10 2.36258235e-10 3.72337396e-08\n",
      "  8.05933147e-14 1.74710593e-11 2.40402244e-16 1.00000000e+00\n",
      "  5.75157977e-13 1.97146499e-09]\n",
      " [2.78998069e-08 2.13854165e-07 9.99999642e-01 4.50571247e-11\n",
      "  1.72817510e-10 1.98827987e-13 1.04686215e-07 2.18155940e-12\n",
      "  5.46207357e-10 1.83430979e-11]\n",
      " [8.07561449e-08 9.99974370e-01 1.46216610e-06 2.59540678e-09\n",
      "  1.35582286e-05 1.21689069e-07 2.02987144e-06 7.97040229e-06\n",
      "  3.69976362e-07 2.74819207e-08]\n",
      " [9.99999642e-01 3.21494664e-10 1.36257713e-10 1.62770179e-11\n",
      "  2.25618656e-12 1.34521705e-09 3.26313284e-07 1.01059411e-10\n",
      "  8.24660895e-11 3.30957617e-09]]\n",
      "\n",
      "Representan los indices:  [7 2 1 0] \n",
      "\n",
      "\n",
      "[[0. 0. 0. 0. 0. 0. 0. 1. 0. 0.]\n",
      " [0. 0. 1. 0. 0. 0. 0. 0. 0. 0.]\n",
      " [0. 1. 0. 0. 0. 0. 0. 0. 0. 0.]\n",
      " [1. 0. 0. 0. 0. 0. 0. 0. 0. 0.]]\n",
      "\n",
      "Representan los indices:  [7 2 1 0]\n"
     ]
    }
   ],
   "source": [
    "#Predecir las cuatro primeras imágenes del conjunto de test\n",
    "deep_predictions = deep_model.predict(x_test[:4])\n",
    "print(deep_predictions)\n",
    "\n",
    "# Para facilitar en la identificación\n",
    "print('\\nRepresentan los indices: ', np.argmax(deep_predictions, axis=1), '\\n\\n')\n",
    "\n",
    "# Mostramos el ground truth para las primeras 4 imágenes\n",
    "print(y_test[:4])\n",
    "print('\\nRepresentan los indices: ', np.argmax(y_test[:4], axis=1))\n"
   ]
  },
  {
   "cell_type": "markdown",
   "metadata": {},
   "source": [
    "<div style=\"background-color: #EDF7FF; border-color: #7C9DBF; border-left: 5px solid #7C9DBF; padding: 0.5em;\">\n",
    "<strong>Análisis [0,5 pts.]:</strong> Analizar los resultados obtenidos y la variación del tiempo de entrenamiento entre el modelo de una capa y el de diversas capas. Comentar posibles mejoras del modelo.\n",
    "</div>"
   ]
  },
  {
   "cell_type": "markdown",
   "metadata": {},
   "source": [
    "Veamos algunos hechos para comparación:\n",
    "\n",
    "+ La aproximación con **una capa** tarda aproximadamente **20s por epoch** para entrenar\n",
    "+ La aproximación de **diversas capas** lleva más de 3 veces ese valor (alrededor de **75 segundos por epoch**)\n",
    "\n",
    "Otro punto que podemos considerar es el porcentaje de errores de cada modelos, veamos:"
   ]
  },
  {
   "cell_type": "code",
   "execution_count": 83,
   "metadata": {},
   "outputs": [
    {
     "name": "stdout",
     "output_type": "stream",
     "text": [
      "Baseline Error - One layer: 2.09%\n",
      "Baseline Error - Multi-layered: 0.83%\n"
     ]
    }
   ],
   "source": [
    "score_single_layer = model.evaluate(x_test, y_test, verbose=0)\n",
    "print(\"Baseline Error - One layer: %.2f%%\" % (100-score_single_layer[1]*100))\n",
    "print(\"Baseline Error - Multi-layered: %.2f%%\" % (100-score[1]*100))"
   ]
  },
  {
   "cell_type": "markdown",
   "metadata": {},
   "source": [
    "O sea, el modelo con **diversas capas** tiene una **tasa de error bastante pequeña** (aunque el modelo de capa única tampoco presenta una tasa alta).\n",
    "\n",
    "Finalmente, si comparamos los gráficos del resultado de `plot_prediction(n_epochs, mfit)`, también queda evidente que el modelo de diversas capas supera el de capa unica, manteniendo una performance significativamente mejor en el ámbito de *loss* y *accuracy* tanto en *training* cuanto en *test*."
   ]
  },
  {
   "cell_type": "markdown",
   "metadata": {},
   "source": [
    "Sobre las maneras de **mejorar el modelo**, dentre las posibles, comentaría especialmente sobre *tuning de performance del algoritmo* intentando probar:\n",
    " + distintos *learning rates* (cuando aplicables);\n",
    " + valores diferentes en *batches* / *epochs*;\n",
    " + cambiar *activation functions*;\n",
    " + cambiar la estructura de topología de la *network*;\n",
    " \n",
    "entre otras aproximaciones.\n"
   ]
  },
  {
   "cell_type": "markdown",
   "metadata": {},
   "source": [
    "## 3. CNN aplicada a super resolución de imágenes [3 puntos]"
   ]
  },
  {
   "cell_type": "markdown",
   "metadata": {},
   "source": [
    "En este ejercicio construiremos una red neuronal convolucional tal que, dadas unas imágenes de baja resolución, nos permita obtener las mismas imágenes pero con una resolución más alta. Para ello, a partir del mismo conjunto de datos MNIST crearemos imágenes de baja resolución con las cuales vamos a entrenar nuestro modelo. "
   ]
  },
  {
   "cell_type": "markdown",
   "metadata": {},
   "source": [
    "En primer lugar reducimos la resolución de las imágenes:"
   ]
  },
  {
   "cell_type": "code",
   "execution_count": 85,
   "metadata": {},
   "outputs": [],
   "source": [
    "x_train = x_train_orig[:, ::2, ::2]\n",
    "x_test = x_test_orig[:, ::2, ::2]"
   ]
  },
  {
   "cell_type": "markdown",
   "metadata": {},
   "source": [
    "Y normalizamos los valores de los píxeles y ajustamos las dimensiones de los datos:"
   ]
  },
  {
   "cell_type": "code",
   "execution_count": 86,
   "metadata": {},
   "outputs": [],
   "source": [
    "# Normalizamos los valores de los píxeles\n",
    "x_train = x_train / 255.0\n",
    "x_test = x_test / 255.0\n",
    "\n",
    "y_train = x_train_orig / 255.0\n",
    "y_test = x_test_orig / 255.0\n",
    "\n",
    "# Ajustamos las dimensiones de los datos\n",
    "x = np.expand_dims(x_train, axis=3)\n",
    "y = np.expand_dims(y_train, axis=3)"
   ]
  },
  {
   "cell_type": "markdown",
   "metadata": {},
   "source": [
    "### 3.1 Creación y entrenamiento del modelo\n"
   ]
  },
  {
   "cell_type": "markdown",
   "metadata": {},
   "source": [
    "A continuación crearemos y entrenaremos el modelo con las siguientes características:\n",
    "\n",
    "- Una capa convolucional de 32 kernels de tamaño 3x3, y con función de activación relu.\n",
    "- Una capa de MaxPooling con un tamaño de 2x2.\n",
    "- Otra capa convolucional de 32 kernels de tamaño 3x3, y con función de activación relu.\n",
    "- Una capa deconvolucional con 32 kernels, de tamaño 3x3, stride 2x2, y función de activación relu.\n",
    "- Una última capa deconvolucional con un único kernel de tamaño 3x3, stride 2x2, y función de activación sigmoid.\n",
    "\n",
    "Todas las capas convolucionales y deconvolucionales tienen que tenen el parámetro padding \"sames\", de forma que el tamaño de las imágenes no se vea afectado en estas capas."
   ]
  },
  {
   "cell_type": "markdown",
   "metadata": {},
   "source": [
    "<div style=\"background-color: #EDF7FF; border-color: #7C9DBF; border-left: 5px solid #7C9DBF; padding: 0.5em;\">\n",
    "<strong>Ejercicio [2 pts.]:</strong> Crear y entrenar el modelo según las características indicadas. Podéis probar diferentes números de épocas para intentar obtener los mejores resultados posibles.\n",
    "</div>"
   ]
  },
  {
   "cell_type": "code",
   "execution_count": 112,
   "metadata": {
    "scrolled": true
   },
   "outputs": [
    {
     "name": "stdout",
     "output_type": "stream",
     "text": [
      "Epoch 1/5\n",
      "60000/60000 [==============================] - 29s 480us/step - loss: 0.0143 - acc: 0.8122\n",
      "Epoch 2/5\n",
      "60000/60000 [==============================] - 28s 460us/step - loss: 0.0078 - acc: 0.8139\n",
      "Epoch 3/5\n",
      "60000/60000 [==============================] - 29s 481us/step - loss: 0.0071 - acc: 0.8141\n",
      "Epoch 4/5\n",
      "60000/60000 [==============================] - 28s 466us/step - loss: 0.0067 - acc: 0.8143\n",
      "Epoch 5/5\n",
      "60000/60000 [==============================] - 28s 467us/step - loss: 0.0065 - acc: 0.8143\n"
     ]
    },
    {
     "data": {
      "text/plain": [
       "<keras.callbacks.History at 0x144b720f0>"
      ]
     },
     "execution_count": 112,
     "metadata": {},
     "output_type": "execute_result"
    }
   ],
   "source": [
    "##TODO: Creación del modelo\n",
    "def super_cnn():\n",
    "    super_cnn = Sequential()\n",
    "    \n",
    "    super_cnn.add(Conv2D(32, (3,3), activation='relu', padding='same'))\n",
    "    super_cnn.add(MaxPooling2D(pool_size=(2, 2)))\n",
    "    super_cnn.add(Conv2D(32, (3,3), activation='relu', padding='same'))\n",
    "    super_cnn.add(Deconv2D(32, (3,3), strides=(2,2), activation='relu', padding='same'))\n",
    "    super_cnn.add(Deconv2D(1, (3,3), strides=(2,2), activation='sigmoid', padding='same'))\n",
    "\n",
    "    return super_cnn\n",
    "\n",
    "\n",
    "super_cnn = super_cnn()\n",
    "super_cnn.compile(optimizer='adadelta', metrics=['accuracy'], loss=['mean_squared_error'])\n",
    "super_cnn.fit(x, y, epochs = 5, batch_size = 10)"
   ]
  },
  {
   "cell_type": "markdown",
   "metadata": {},
   "source": [
    "Estuve probando distintos valores para `epochs` y `batch_size` y he notado que al disminuir `batch_size`, el valor de `loss` disminuia considerablemente. Aparte, el valor de `accuracy` quedaba *flat* independientemente de la cantidad de épocas, por lo tanto, he reducido tanto `epochs` cuanto `batch_size`."
   ]
  },
  {
   "cell_type": "markdown",
   "metadata": {},
   "source": [
    "### 3.2 Predicción de algunas imágenes del conjunto de test"
   ]
  },
  {
   "cell_type": "markdown",
   "metadata": {},
   "source": [
    "<div style=\"background-color: #EDF7FF; border-color: #7C9DBF; border-left: 5px solid #7C9DBF; padding: 0.5em;\">\n",
    "<strong>Ejercicio [1 pto.]:</strong> Visualizar tres imágenes al azar del conjunto de test. Mostrar la versión original de la imagen, la versión con resolución reducida, y la predicción del modelo.\n",
    "</div>"
   ]
  },
  {
   "cell_type": "code",
   "execution_count": 142,
   "metadata": {},
   "outputs": [
    {
     "data": {
      "image/png": "[encoded data removed]",
      "text/plain": [
       "<Figure size 1440x864 with 9 Axes>"
      ]
     },
     "metadata": {
      "needs_background": "light"
     },
     "output_type": "display_data"
    }
   ],
   "source": [
    "# Predicción de tres imágenes del conjunto de test\n",
    "n_images = 3\n",
    "idx_images = np.random.randint(x_test.shape[0], size=n_images)\n",
    "\n",
    "images = np.expand_dims(np.stack([x_test[i] for i in idx_images]), axis=3)\n",
    "\n",
    "pred = super_cnn.predict(images)\n",
    "\n",
    "# Ajustamos las dimensiones de las imágenes predichas al formato adecuado y desnormalizamos los píxeles\n",
    "pred = pred.reshape(3, 28,28)\n",
    "images = images.reshape((3, 14, 14))\n",
    "\n",
    "\n",
    "##TODO: Visualización de las imágenes predichas\n",
    "fig, axs = plt.subplots(ncols= 3, nrows = n_images, figsize=(20, 12))\n",
    "\n",
    "for idx in range(n_images):\n",
    "    #Mostrar la versión original de la imagen, la versión con resolución reducida, y la predicción del modelo.\n",
    "    im = axs[idx]\n",
    "    im[0].set_title(\"Original:\")\n",
    "    im[0].imshow(x_test_orig[idx_images[idx]], cmap='gray')\n",
    "    \n",
    "    im[1].set_title('Reducida: ')\n",
    "    im[1].imshow(np.pad(images[idx], mode='constant', constant_values=1, pad_width = 5), cmap='gray')\n",
    "    \n",
    "    im[2].set_title('Predicción:')\n",
    "    im[2].imshow(pred[idx], cmap='gray')"
   ]
  }
 ],
 "metadata": {
  "kernelspec": {
   "display_name": "Python 3",
   "language": "python",
   "name": "python3"
  },
  "language_info": {
   "codemirror_mode": {
    "name": "ipython",
    "version": 3
   },
   "file_extension": ".py",
   "mimetype": "text/x-python",
   "name": "python",
   "nbconvert_exporter": "python",
   "pygments_lexer": "ipython3",
   "version": "3.6.6"
  }
 },
 "nbformat": 4,
 "nbformat_minor": 2
}
